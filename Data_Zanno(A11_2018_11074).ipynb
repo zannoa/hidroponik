{
  "nbformat": 4,
  "nbformat_minor": 0,
  "metadata": {
    "colab": {
      "name": "Data Zanno(A11.2018.11074).ipynb",
      "provenance": [],
      "authorship_tag": "ABX9TyMpvwCyGcsMzCLueRC2+OU1",
      "include_colab_link": true
    },
    "kernelspec": {
      "name": "python3",
      "display_name": "Python 3"
    },
    "language_info": {
      "name": "python"
    }
  },
  "cells": [
    {
      "cell_type": "markdown",
      "metadata": {
        "id": "view-in-github",
        "colab_type": "text"
      },
      "source": [
        "<a href=\"https://colab.research.google.com/github/zannoa/hidroponik/blob/master/Data_Zanno(A11_2018_11074).ipynb\" target=\"_parent\"><img src=\"https://colab.research.google.com/assets/colab-badge.svg\" alt=\"Open In Colab\"/></a>"
      ]
    },
    {
      "cell_type": "code",
      "metadata": {
        "id": "Ey1ZkZg7aSis"
      },
      "source": [
        "import numpy as np\n",
        "import matplotlib.pyplot as plt\n",
        "import pandas as pd"
      ],
      "execution_count": 1,
      "outputs": []
    },
    {
      "cell_type": "code",
      "metadata": {
        "id": "uZVZVC0Qaj6w"
      },
      "source": [
        "dataset = pd.read_csv('Data.csv')\n",
        "x = dataset.iloc[:, :-1].values\n",
        "y = dataset.iloc[:, -1].values"
      ],
      "execution_count": 4,
      "outputs": []
    },
    {
      "cell_type": "code",
      "metadata": {
        "colab": {
          "base_uri": "https://localhost:8080/"
        },
        "id": "r7pLivXzatYB",
        "outputId": "815854ab-fc09-41b4-d5ab-20505a6e139a"
      },
      "source": [
        "print(x)"
      ],
      "execution_count": 5,
      "outputs": [
        {
          "output_type": "stream",
          "text": [
            "[['Semarang' 1.0 72.0]\n",
            " ['Pekalongan' nan 43.0]\n",
            " ['Batang' 4.0 24.0]\n",
            " ['Ungaran' 3.0 88.0]\n",
            " ['Pekalongan' 3.0 nan]\n",
            " ['Semarang' 2.0 15.0]\n",
            " ['Ungaran' 5.0 63.0]\n",
            " ['Kendal' 3.0 7.0]\n",
            " ['Batang' 5.0 8.0]\n",
            " ['Demak' 5.0 60.0]]\n"
          ],
          "name": "stdout"
        }
      ]
    },
    {
      "cell_type": "code",
      "metadata": {
        "colab": {
          "base_uri": "https://localhost:8080/"
        },
        "id": "pL-5PkMTaxrB",
        "outputId": "54db4067-7eaa-4f13-a4e0-f08c9b1db334"
      },
      "source": [
        "print(y)"
      ],
      "execution_count": 7,
      "outputs": [
        {
          "output_type": "stream",
          "text": [
            "['Tidak' 'Ya' 'Ya' 'Ya' 'Tidak' 'Tidak' 'Ya' 'Tidak' 'Tidak' 'Ya']\n"
          ],
          "name": "stdout"
        }
      ]
    },
    {
      "cell_type": "code",
      "metadata": {
        "id": "eRA9aioda8tc"
      },
      "source": [
        "from sklearn.compose import ColumnTransformer\n",
        "from sklearn.preprocessing import OneHotEncoder\n",
        "ct = ColumnTransformer(transformers=[('encoder', OneHotEncoder(), [0])], remainder = 'passthrough')\n",
        "x = np.array(ct.fit_transform(x))"
      ],
      "execution_count": 9,
      "outputs": []
    },
    {
      "cell_type": "code",
      "metadata": {
        "colab": {
          "base_uri": "https://localhost:8080/"
        },
        "id": "rUWWWxoVbEMu",
        "outputId": "d29979a2-2c26-464f-ee73-c4ed02b08d86"
      },
      "source": [
        "print(x)"
      ],
      "execution_count": 10,
      "outputs": [
        {
          "output_type": "stream",
          "text": [
            "[[0.0 0.0 0.0 0.0 1.0 0.0 1.0 72.0]\n",
            " [0.0 0.0 0.0 1.0 0.0 0.0 nan 43.0]\n",
            " [1.0 0.0 0.0 0.0 0.0 0.0 4.0 24.0]\n",
            " [0.0 0.0 0.0 0.0 0.0 1.0 3.0 88.0]\n",
            " [0.0 0.0 0.0 1.0 0.0 0.0 3.0 nan]\n",
            " [0.0 0.0 0.0 0.0 1.0 0.0 2.0 15.0]\n",
            " [0.0 0.0 0.0 0.0 0.0 1.0 5.0 63.0]\n",
            " [0.0 0.0 1.0 0.0 0.0 0.0 3.0 7.0]\n",
            " [1.0 0.0 0.0 0.0 0.0 0.0 5.0 8.0]\n",
            " [0.0 1.0 0.0 0.0 0.0 0.0 5.0 60.0]]\n"
          ],
          "name": "stdout"
        }
      ]
    },
    {
      "cell_type": "code",
      "metadata": {
        "colab": {
          "base_uri": "https://localhost:8080/"
        },
        "id": "ZoYGaG0SbIla",
        "outputId": "633a7a0b-b924-4d24-8ba6-b379bbcb0da0"
      },
      "source": [
        "print(y)"
      ],
      "execution_count": 11,
      "outputs": [
        {
          "output_type": "stream",
          "text": [
            "['Tidak' 'Ya' 'Ya' 'Ya' 'Tidak' 'Tidak' 'Ya' 'Tidak' 'Tidak' 'Ya']\n"
          ],
          "name": "stdout"
        }
      ]
    },
    {
      "cell_type": "code",
      "metadata": {
        "id": "zjiTCRWxbWV8"
      },
      "source": [
        "from sklearn.preprocessing import LabelEncoder\n",
        "le = LabelEncoder()\n",
        "y = le.fit_transform(y)\n"
      ],
      "execution_count": 12,
      "outputs": []
    },
    {
      "cell_type": "code",
      "metadata": {
        "colab": {
          "base_uri": "https://localhost:8080/"
        },
        "id": "vcvFE8OJbY7q",
        "outputId": "78d1c2d3-7bb7-4afd-e14e-e3d07e59b1fa"
      },
      "source": [
        "print(y)"
      ],
      "execution_count": 13,
      "outputs": [
        {
          "output_type": "stream",
          "text": [
            "[0 1 1 1 0 0 1 0 0 1]\n"
          ],
          "name": "stdout"
        }
      ]
    },
    {
      "cell_type": "code",
      "metadata": {
        "id": "AFvo9tgjbga0"
      },
      "source": [
        "from sklearn.model_selection import train_test_split\n",
        "x_train, x_test, y_train, y_test = train_test_split(x, y, test_size=0.2, random_state=1)"
      ],
      "execution_count": 14,
      "outputs": []
    },
    {
      "cell_type": "code",
      "metadata": {
        "colab": {
          "base_uri": "https://localhost:8080/"
        },
        "id": "H4aDQ_cIbnoG",
        "outputId": "39e54733-af77-4cd7-d945-5df20880cf07"
      },
      "source": [
        "print(x_train)"
      ],
      "execution_count": 15,
      "outputs": [
        {
          "output_type": "stream",
          "text": [
            "[[0.0 0.0 0.0 0.0 0.0 1.0 5.0 63.0]\n",
            " [0.0 0.0 0.0 1.0 0.0 0.0 3.0 nan]\n",
            " [0.0 0.0 0.0 0.0 1.0 0.0 1.0 72.0]\n",
            " [0.0 0.0 0.0 0.0 0.0 1.0 3.0 88.0]\n",
            " [0.0 0.0 0.0 1.0 0.0 0.0 nan 43.0]\n",
            " [0.0 0.0 1.0 0.0 0.0 0.0 3.0 7.0]\n",
            " [1.0 0.0 0.0 0.0 0.0 0.0 5.0 8.0]\n",
            " [0.0 0.0 0.0 0.0 1.0 0.0 2.0 15.0]]\n"
          ],
          "name": "stdout"
        }
      ]
    },
    {
      "cell_type": "code",
      "metadata": {
        "colab": {
          "base_uri": "https://localhost:8080/"
        },
        "id": "Zjlhrr_7brxw",
        "outputId": "54c58d94-a3ed-4af1-f2e9-89fec1eb0d72"
      },
      "source": [
        "print(x_test)"
      ],
      "execution_count": 16,
      "outputs": [
        {
          "output_type": "stream",
          "text": [
            "[[1.0 0.0 0.0 0.0 0.0 0.0 4.0 24.0]\n",
            " [0.0 1.0 0.0 0.0 0.0 0.0 5.0 60.0]]\n"
          ],
          "name": "stdout"
        }
      ]
    },
    {
      "cell_type": "code",
      "metadata": {
        "colab": {
          "base_uri": "https://localhost:8080/"
        },
        "id": "5UrIF8L8bxD3",
        "outputId": "a74d8a1a-90a5-46cd-e5c4-a2e7fee55094"
      },
      "source": [
        "print(y_train)"
      ],
      "execution_count": 17,
      "outputs": [
        {
          "output_type": "stream",
          "text": [
            "[1 0 0 1 1 0 0 0]\n"
          ],
          "name": "stdout"
        }
      ]
    },
    {
      "cell_type": "code",
      "metadata": {
        "colab": {
          "base_uri": "https://localhost:8080/"
        },
        "id": "QZo7RAw5b2gZ",
        "outputId": "6907537f-960e-44fc-d1b6-4c7ad92bd358"
      },
      "source": [
        "print(y_test)"
      ],
      "execution_count": 18,
      "outputs": [
        {
          "output_type": "stream",
          "text": [
            "[1 1]\n"
          ],
          "name": "stdout"
        }
      ]
    },
    {
      "cell_type": "code",
      "metadata": {
        "id": "0m7vkC6eb72r"
      },
      "source": [
        "from sklearn.preprocessing import StandardScaler\n",
        "sc = StandardScaler()\n",
        "x_train[:, 3:] = sc.fit_transform(x_train[:, 3:])\n",
        "x_test[:, 3:] = sc.transform(x_test[:, 3:])"
      ],
      "execution_count": 20,
      "outputs": []
    },
    {
      "cell_type": "code",
      "metadata": {
        "colab": {
          "base_uri": "https://localhost:8080/"
        },
        "id": "kCkdQvylcFFS",
        "outputId": "194d1375-05c4-405e-e43c-1632bca9dda5"
      },
      "source": [
        "print(x_train)"
      ],
      "execution_count": 21,
      "outputs": [
        {
          "output_type": "stream",
          "text": [
            "[[0.0 0.0 0.0 -0.5773502691896258 -0.5773502691896258 1.7320508075688774\n",
            "  1.3703203194062978 0.6762718391685768]\n",
            " [0.0 0.0 0.0 1.7320508075688774 -0.5773502691896258 -0.5773502691896258\n",
            "  -0.10540925533894598 nan]\n",
            " [0.0 0.0 0.0 -0.5773502691896258 1.7320508075688774 -0.5773502691896258\n",
            "  -1.5811388300841898 0.9701002934280274]\n",
            " [0.0 0.0 0.0 -0.5773502691896258 -0.5773502691896258 1.7320508075688774\n",
            "  -0.10540925533894598 1.4924619898892728]\n",
            " [0.0 0.0 0.0 1.7320508075688774 -0.5773502691896258 -0.5773502691896258\n",
            "  nan 0.02331971859201989]\n",
            " [0.0 0.0 1.0 -0.5773502691896258 -0.5773502691896258 -0.5773502691896258\n",
            "  -0.10540925533894598 -1.1519940984457826]\n",
            " [1.0 0.0 0.0 -0.5773502691896258 -0.5773502691896258 -0.5773502691896258\n",
            "  1.3703203194062978 -1.1193464924169547]\n",
            " [0.0 0.0 0.0 -0.5773502691896258 1.7320508075688774 -0.5773502691896258\n",
            "  -0.8432740427115678 -0.8908132502151597]]\n"
          ],
          "name": "stdout"
        }
      ]
    },
    {
      "cell_type": "code",
      "metadata": {
        "colab": {
          "base_uri": "https://localhost:8080/"
        },
        "id": "cmBGntj0cJ-O",
        "outputId": "eb9df441-0f37-4b2e-ce37-f41971ee6332"
      },
      "source": [
        "print(x_test)"
      ],
      "execution_count": 22,
      "outputs": [
        {
          "output_type": "stream",
          "text": [
            "[[1.0 0.0 0.0 -0.5773502691896258 -0.5773502691896258 -0.5773502691896258\n",
            "  0.632455532033676 -0.5969847959557092]\n",
            " [0.0 1.0 0.0 -0.5773502691896258 -0.5773502691896258 -0.5773502691896258\n",
            "  1.3703203194062978 0.5783290210820933]]\n"
          ],
          "name": "stdout"
        }
      ]
    }
  ]
}